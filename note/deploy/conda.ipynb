{
 "cells": [
  {
   "cell_type": "markdown",
   "metadata": {
    "Collapsed": "false"
   },
   "source": [
    "# Conda Environments"
   ]
  },
  {
   "cell_type": "markdown",
   "metadata": {
    "Collapsed": "false"
   },
   "source": [
    "## Imports"
   ]
  },
  {
   "cell_type": "code",
   "execution_count": 1,
   "metadata": {
    "Collapsed": "false"
   },
   "outputs": [],
   "source": [
    "import os\n",
    "from os.path import dirname"
   ]
  },
  {
   "cell_type": "markdown",
   "metadata": {
    "Collapsed": "false"
   },
   "source": [
    "## Initialization\n",
    "\n",
    "Some important variables to be used afterwards."
   ]
  },
  {
   "cell_type": "code",
   "execution_count": 2,
   "metadata": {
    "Collapsed": "false"
   },
   "outputs": [],
   "source": [
    "name = \"dummynator\"\n",
    "\n",
    "root_dir = dirname(dirname(os.getcwd()))\n",
    "\n",
    "fn_conda_dep = 'dependencies-deploy.yaml'\n",
    "fn_conda_dev = 'dependencies-develop.yaml'"
   ]
  },
  {
   "cell_type": "markdown",
   "metadata": {
    "Collapsed": "false"
   },
   "source": [
    "# Introduction\n",
    "\n",
    "This cookiecutter is set up for optimal use with conda, for local dependency managment. The takeaway is this; for local dependency managment, we rely on conda and nothing else.\n",
    "\n",
    "Note that this has nothing to do with remote dependency managment. This is what you need to take care of when preparing a release of your code which goes via PyPi or alternatives. We treat that as an independent problem. Mixing remote and local dependency managment tends to add complexity instead of removing it."
   ]
  },
  {
   "cell_type": "markdown",
   "metadata": {
    "Collapsed": "false"
   },
   "source": [
    "# Workflow\n",
    "\n",
    "We distinguish between `deployment` and `development` environments. Of course, in research this is not always that useful or clear. We follow this rule of thumb:\n",
    "\n",
    "```\n",
    "Everything that should end up in pip release, goes in deployment\n",
    "```\n",
    "\n",
    "Which still justifies keeping the two separated."
   ]
  },
  {
   "cell_type": "markdown",
   "metadata": {
    "Collapsed": "false"
   },
   "source": [
    "## Deployment Environment\n",
    "\n",
    "This environment is whatever an end user may need in order to use your package.\n"
   ]
  },
  {
   "cell_type": "code",
   "execution_count": 3,
   "metadata": {
    "Collapsed": "false"
   },
   "outputs": [
    {
     "name": "stdout",
     "output_type": "stream",
     "text": [
      "# conda environments:\n",
      "#\n",
      "base                  *  /cw/dtaijupiter/NoCsBack/dtai/elia/miniconda\n",
      "mercs                    /cw/dtaijupiter/NoCsBack/dtai/elia/miniconda/envs/mercs\n",
      "rwrf                     /cw/dtaijupiter/NoCsBack/dtai/elia/miniconda/envs/rwrf\n",
      "\n"
     ]
    }
   ],
   "source": [
    "%%bash -s \"$name\" \"$root_dir\" \"$fn_conda_dep\"\n",
    "\n",
    "source ~/.bashrc\n",
    "\n",
    "conda env list"
   ]
  },
  {
   "cell_type": "code",
   "execution_count": 4,
   "metadata": {
    "Collapsed": "false"
   },
   "outputs": [
    {
     "name": "stdout",
     "output_type": "stream",
     "text": [
      "Collecting package metadata (repodata.json): ...working... done\n",
      "Solving environment: ...working... done\n",
      "\n",
      "Downloading and Extracting Packages\n",
      "python-3.7.6         | 44.9 MB   | ########## | 100% \n",
      "_libgcc_mutex-0.1    | 3 KB      | ########## | 100% \n",
      "joblib-0.14.1        | 201 KB    | ########## | 100% \n",
      "wheel-0.33.6         | 42 KB     | ########## | 100% \n",
      "python-dateutil-2.8. | 224 KB    | ########## | 100% \n",
      "pyparsing-2.4.6      | 64 KB     | ########## | 100% \n",
      "six-1.13.0           | 26 KB     | ########## | 100% \n",
      "ld_impl_linux-64-2.3 | 568 KB    | ########## | 100% \n",
      "jedi-0.15.2          | 743 KB    | ########## | 100% \n",
      "parso-0.5.2          | 69 KB     | ########## | 100% \n",
      "decorator-4.4.1      | 13 KB     | ########## | 100% \n",
      "pygments-2.5.2       | 672 KB    | ########## | 100% \n",
      "certifi-2019.11.28   | 153 KB    | ########## | 100% \n",
      "traitlets-4.3.3      | 140 KB    | ########## | 100% \n",
      "prompt_toolkit-3.0.2 | 234 KB    | ########## | 100% \n",
      "ipython-7.11.1       | 974 KB    | ########## | 100% \n",
      "pytz-2019.3          | 231 KB    | ########## | 100% \n",
      "scikit-learn-0.22.1  | 5.2 MB    | ########## | 100% \n",
      "pexpect-4.7.0        | 80 KB     | ########## | 100% \n",
      "setuptools-44.0.0    | 520 KB    | ########## | 100% \n",
      "Preparing transaction: ...working... done\n",
      "Verifying transaction: ...working... done\n",
      "Executing transaction: ...working... done\n",
      "#\n",
      "# To activate this environment, use\n",
      "#\n",
      "#     $ conda activate dummynator\n",
      "#\n",
      "# To deactivate an active environment, use\n",
      "#\n",
      "#     $ conda deactivate\n",
      "\n"
     ]
    },
    {
     "name": "stderr",
     "output_type": "stream",
     "text": [
      "\n",
      "\n",
      "==> WARNING: A newer version of conda exists. <==\n",
      "  current version: 4.7.12\n",
      "  latest version: 4.8.0\n",
      "\n",
      "Please update conda by running\n",
      "\n",
      "    $ conda update -n base conda\n",
      "\n",
      "\n"
     ]
    }
   ],
   "source": [
    "%%bash -s \"$name\" \"$root_dir\" \"$fn_conda_dep\"\n",
    "\n",
    "source ~/.bashrc\n",
    "\n",
    "cd $2\n",
    "\n",
    "conda env create -f $3 -n $1"
   ]
  },
  {
   "cell_type": "markdown",
   "metadata": {
    "Collapsed": "false"
   },
   "source": [
    "## Development environment\n"
   ]
  },
  {
   "cell_type": "code",
   "execution_count": 5,
   "metadata": {
    "Collapsed": "false"
   },
   "outputs": [
    {
     "name": "stdout",
     "output_type": "stream",
     "text": [
      "Warning: you have pip-installed dependencies in your environment file, but you do not list pip itself as one of your conda dependencies.  Conda may not use the correct pip to install your packages, and they may end up in the wrong place.  Please add an explicit pip dependency.  I'm adding one for you, but still nagging you.\n",
      "Collecting package metadata (repodata.json): ...working... done\n",
      "Solving environment: ...working... done\n",
      "\n",
      "Downloading and Extracting Packages\n",
      "testpath-0.4.4       | 88 KB     | ########## | 100% \n",
      "prometheus_client-0. | 42 KB     | ########## | 100% \n",
      "jupyter_core-4.6.1   | 70 KB     | ########## | 100% \n",
      "jupyterlab_server-1. | 26 KB     | ########## | 100% \n",
      "packaging-20.0       | 35 KB     | ########## | 100% \n",
      "zipp-0.6.0           | 9 KB      | ########## | 100% \n",
      "jinja2-2.10.3        | 95 KB     | ########## | 100% \n",
      "nbconvert-5.6.1      | 459 KB    | ########## | 100% \n",
      "importlib_metadata-1 | 46 KB     | ########## | 100% \n",
      "defusedxml-0.6.0     | 23 KB     | ########## | 100% \n",
      "attrs-19.3.0         | 39 KB     | ########## | 100% \n",
      "jsonschema-3.2.0     | 95 KB     | ########## | 100% \n",
      "terminado-0.8.3      | 26 KB     | ########## | 100% \n",
      "py-1.8.1             | 71 KB     | ########## | 100% \n",
      "more-itertools-8.0.2 | 39 KB     | ########## | 100% \n",
      "json5-0.8.5          | 25 KB     | ########## | 100% \n",
      "Preparing transaction: ...working... done\n",
      "Verifying transaction: ...working... done\n",
      "Executing transaction: ...working... done\n",
      "Ran pip subprocess with arguments:\n",
      "['/cw/dtaijupiter/NoCsBack/dtai/elia/miniconda/envs/dummynator/bin/python', '-m', 'pip', 'install', '-U', '-r', '/cw/dtaijupiter/NoCsBack/dtai/elia/dummynator/condaenv.nzb9nrqt.requirements.txt']\n",
      "Pip subprocess output:\n",
      "Collecting semantic-version\n",
      "  Downloading https://files.pythonhosted.org/packages/ba/00/098b5c385c3cf8f1ff4d9b909623859de4eb95c115aed81263a4e3b84ea3/semantic_version-2.8.4-py2.py3-none-any.whl\n",
      "Installing collected packages: semantic-version\n",
      "Successfully installed semantic-version-2.8.4\n",
      "\n",
      "#\n",
      "# To activate this environment, use\n",
      "#\n",
      "#     $ conda activate dummynator\n",
      "#\n",
      "# To deactivate an active environment, use\n",
      "#\n",
      "#     $ conda deactivate\n",
      "\n"
     ]
    },
    {
     "name": "stderr",
     "output_type": "stream",
     "text": [
      "\n",
      "\n",
      "==> WARNING: A newer version of conda exists. <==\n",
      "  current version: 4.7.12\n",
      "  latest version: 4.8.0\n",
      "\n",
      "Please update conda by running\n",
      "\n",
      "    $ conda update -n base conda\n",
      "\n",
      "\n"
     ]
    }
   ],
   "source": [
    "%%bash -s \"$name\" \"$root_dir\" \"$fn_conda_dev\"\n",
    "\n",
    "source ~/.bashrc\n",
    "\n",
    "cd $2\n",
    "\n",
    "conda activate $1\n",
    "\n",
    "conda env update -n $1 -f $3"
   ]
  },
  {
   "cell_type": "markdown",
   "metadata": {
    "Collapsed": "false"
   },
   "source": [
    "## Jupyter kernel\n",
    "\n",
    "Expose the environment to your jupyter."
   ]
  },
  {
   "cell_type": "code",
   "execution_count": 6,
   "metadata": {
    "Collapsed": "false"
   },
   "outputs": [
    {
     "name": "stdout",
     "output_type": "stream",
     "text": [
      "Installed kernelspec dummynator in /home/elia/.local/share/jupyter/kernels/dummynator\n"
     ]
    }
   ],
   "source": [
    "%%bash -s \"$name\" \"$root_dir\" \"$fn_conda_dep\"\n",
    "\n",
    "source ~/.bashrc\n",
    "\n",
    "cd $2\n",
    "\n",
    "conda activate $1\n",
    "python -m ipykernel install --user --name $1 --display-name \"$1\""
   ]
  }
 ],
 "metadata": {
  "kernelspec": {
   "display_name": "Python 3",
   "language": "python",
   "name": "python3"
  },
  "language_info": {
   "codemirror_mode": {
    "name": "ipython",
    "version": 3
   },
   "file_extension": ".py",
   "mimetype": "text/x-python",
   "name": "python",
   "nbconvert_exporter": "python",
   "pygments_lexer": "ipython3",
   "version": "3.7.4"
  },
  "toc-autonumbering": true
 },
 "nbformat": 4,
 "nbformat_minor": 4
}
